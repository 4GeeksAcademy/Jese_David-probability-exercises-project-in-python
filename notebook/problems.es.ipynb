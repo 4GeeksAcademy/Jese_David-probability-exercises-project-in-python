{
 "cells": [
  {
   "cell_type": "markdown",
   "id": "a41f3622",
   "metadata": {},
   "source": [
    "# Ejercicios de probabilidad"
   ]
  },
  {
   "cell_type": "markdown",
   "id": "a6bdbd89",
   "metadata": {},
   "source": [
    "## Ejercicio 1 \n",
    "\n",
    "Dos dados se lanzan una vez y se observa el total obtenido. Usa una simulación para encontrar la probabilidad estimada de que la puntuación sea mayor a 7 o un número par. Una simulación es una repetición del mismo experimento multiples veces para observar su comportamiento:\n",
    "\n",
    "- Ejecuta el experimento 1000 veces (lanza 2 dados 1000 veces, y suma el número de ambos dados).\n",
    "- Lleva ua cuenta de los números y las veces que la suma fue mayor a 7 o un número par.\n",
    "- Divide el número del paso 2 entre el número de iteraciones(1000)."
   ]
  },
  {
   "cell_type": "code",
   "execution_count": null,
   "id": "8939d892",
   "metadata": {},
   "outputs": [
    {
     "name": "stdout",
     "output_type": "stream",
     "text": [
      "La probabilidad estimada de que la suma sea mayor a 7 o par es: 65.00%\n"
     ]
    }
   ],
   "source": [
    "#Importar las librerías necesarias\n",
    "import numpy as np\n",
    "import random\n",
    "#Ahora simulare los 1000 lanzamientos de ambos dados y sumare sus resultados\n",
    "n = 1000\n",
    "dado_1 = np.random.randint(1, 7, n)\n",
    "dado_2 = np.random.randint(1, 7, n)\n",
    "suma_dados = dado_1 + dado_2\n",
    "#Ahora evaluare la condicion de que la suma sea mayor a 7 o par\n",
    "a = np.where((suma_dados > 7) | (suma_dados % 2 == 0), 1, 0)\n",
    "#Calculo la probabilidad como el promedio de los exitos\n",
    "prob= np.mean(a)\n",
    "#Transcribo el resultado en formato porcentaje\n",
    "print(f\"La probabilidad estimada de que la suma sea mayor a 7 o par es: {prob:.2%}\")\n"
   ]
  },
  {
   "cell_type": "markdown",
   "id": "55732bca",
   "metadata": {},
   "source": [
    "## Ejercicio 2\n",
    "\n",
    "Una caja contiene 10 bolas blancas, 20 bolas rojas y 30 bolas verdes. Si tomamos 5 bolas de la caja reemplazándolas (tomando una bola, anotando el color y luego regresandola a la caja). Queremos saber la probabilidad de:\n",
    "\n",
    "1. Tomar 3 blancas y 2 rojas.\n",
    "2. Toas todas del mismo color.\n",
    "\n",
    "Ejecuta el experimento 1000 veces y calcula las probabilidades que mencionadas."
   ]
  },
  {
   "cell_type": "code",
   "execution_count": 32,
   "id": "23244d20",
   "metadata": {},
   "outputs": [
    {
     "name": "stdout",
     "output_type": "stream",
     "text": [
      "{0: 'White', 1: 'White', 2: 'White', 3: 'White', 4: 'White', 5: 'White', 6: 'White', 7: 'White', 8: 'White', 9: 'White', 10: 'Red', 11: 'Red', 12: 'Red', 13: 'Red', 14: 'Red', 15: 'Red', 16: 'Red', 17: 'Red', 18: 'Red', 19: 'Red', 20: 'Red', 21: 'Red', 22: 'Red', 23: 'Red', 24: 'Red', 25: 'Red', 26: 'Red', 27: 'Red', 28: 'Red', 29: 'Red', 30: 'Green', 31: 'Green', 32: 'Green', 33: 'Green', 34: 'Green', 35: 'Green', 36: 'Green', 37: 'Green', 38: 'Green', 39: 'Green', 40: 'Green', 41: 'Green', 42: 'Green', 43: 'Green', 44: 'Green', 45: 'Green', 46: 'Green', 47: 'Green', 48: 'Green', 49: 'Green', 50: 'Green', 51: 'Green', 52: 'Green', 53: 'Green', 54: 'Green', 55: 'Green', 56: 'Green', 57: 'Green', 58: 'Green', 59: 'Green'}\n",
      "Probabilidad estimada de 3 blancas y 2 rojas: 0.70%\n",
      "Probabilidad estimada de todas del mismo color: 3.60%\n"
     ]
    }
   ],
   "source": [
    "ball_box = {}\n",
    "\n",
    "# Crea la cajas con las bolas\n",
    "for i in range(60):\n",
    "    if i < 10:\n",
    "        ball_box[i] = \"White\"\n",
    "    elif (i > 9) and (i < 30):\n",
    "        ball_box[i] = \"Red\"\n",
    "    else:\n",
    "        ball_box[i] = \"Green\"\n",
    "\n",
    "print(ball_box)\n",
    "            \n",
    "#Determinamos las variables necesarias para la simulación\n",
    "n_simulaciones = 1000\n",
    "por_tirada = 5\n",
    "prob_w_and_r = 0\n",
    "prob_same_color = 0\n",
    "#Realizamos las simulaciones\n",
    "for _ in range(n_simulaciones):\n",
    "    draws = [random.choice(ball_box) for _ in range(por_tirada)]\n",
    "    if draws.count(\"White\") == 3 and draws.count(\"Red\") == 2:\n",
    "        prob_w_and_r += 1\n",
    "    if len(set(draws)) == 1:\n",
    "        prob_same_color += 1\n",
    "#para que se cumpla la condicion de la teoria de la probabilidad, dividimos entre el numero de simulaciones\n",
    "prob_w_and_r /= n_simulaciones\n",
    "prob_same_color /= n_simulaciones\n",
    "print(f\"Probabilidad estimada de 3 blancas y 2 rojas: {prob_w_and_r:.2%}\")\n",
    "print(f\"Probabilidad estimada de todas del mismo color: {prob_same_color:.2%}\")\n",
    "\n"
   ]
  }
 ],
 "metadata": {
  "kernelspec": {
   "display_name": "Python 3",
   "language": "python",
   "name": "python3"
  },
  "language_info": {
   "codemirror_mode": {
    "name": "ipython",
    "version": 3
   },
   "file_extension": ".py",
   "mimetype": "text/x-python",
   "name": "python",
   "nbconvert_exporter": "python",
   "pygments_lexer": "ipython3",
   "version": "3.11.4"
  }
 },
 "nbformat": 4,
 "nbformat_minor": 5
}
